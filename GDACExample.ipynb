{
  "nbformat": 4,
  "nbformat_minor": 0,
  "metadata": {
    "colab": {
      "provenance": [],
      "include_colab_link": true
    },
    "kernelspec": {
      "name": "python3",
      "display_name": "Python 3"
    }
  },
  "cells": [
    {
      "cell_type": "markdown",
      "metadata": {
        "id": "view-in-github",
        "colab_type": "text"
      },
      "source": [
        "<a href=\"https://colab.research.google.com/github/MohindharMukku/Web-scraping/blob/main/GDACExample.ipynb\" target=\"_parent\"><img src=\"https://colab.research.google.com/assets/colab-badge.svg\" alt=\"Open In Colab\"/></a>"
      ]
    },
    {
      "cell_type": "code",
      "metadata": {
        "id": "_XdGaesEvpP6"
      },
      "source": [
        "import requests"
      ],
      "execution_count": null,
      "outputs": []
    },
    {
      "cell_type": "code",
      "metadata": {
        "id": "-d17jWmdvv5P"
      },
      "source": [
        "from bs4 import BeautifulSoup\n",
        "import pandas"
      ],
      "execution_count": null,
      "outputs": []
    },
    {
      "cell_type": "code",
      "metadata": {
        "id": "JmTxbjvgwBUR",
        "colab": {
          "base_uri": "https://localhost:8080/",
          "height": 34
        },
        "outputId": "efff3ecb-3167-456f-f76b-967ba6169661"
      },
      "source": [
        "html = requests.get(\"https://www.gdacs.org/Cyclones/report.aspx?eventid=1000667&episodeid=13&eventtype=TC\")\n",
        "html"
      ],
      "execution_count": null,
      "outputs": [
        {
          "output_type": "execute_result",
          "data": {
            "text/plain": [
              "<Response [200]>"
            ]
          },
          "metadata": {
            "tags": []
          },
          "execution_count": 6
        }
      ]
    },
    {
      "cell_type": "code",
      "metadata": {
        "id": "cnjfQEYqwPCI"
      },
      "source": [
        "html.text\n",
        "main_page = BeautifulSoup(html.text)"
      ],
      "execution_count": null,
      "outputs": []
    },
    {
      "cell_type": "code",
      "metadata": {
        "id": "Q7RtRIyWwczr"
      },
      "source": [
        "table = main_page.find('table', attrs={'class':'generic'})\n",
        "headings = table.find('tr', attrs={'class':'main_tit'})\n",
        "\n",
        "columns = []\n",
        "\n",
        "header_tags = headings.find_all('th')\n",
        "for header_tag in header_tags:\n",
        "  columns.append(header_tag.text)\n",
        "\n",
        "data = {}\n",
        "for colname in columns:\n",
        "  data[colname] = []\n",
        "\n",
        "headings.decompose()"
      ],
      "execution_count": null,
      "outputs": []
    },
    {
      "cell_type": "code",
      "metadata": {
        "id": "oar6rDqQzHup",
        "colab": {
          "base_uri": "https://localhost:8080/",
          "height": 1000
        },
        "outputId": "00143fff-d0f0-45fe-b7b0-94eae09e6839"
      },
      "source": [
        "rows = table.find_all('tr')\n",
        "\n",
        "for row in rows:\n",
        "  cells = row.find_all('td')\n",
        "\n",
        "  index = 0\n",
        "  for cell in cells:\n",
        "    colname = columns[index]\n",
        "    data[colname].append(cell.text)\n",
        "    index+=1\n"
      ],
      "execution_count": null,
      "outputs": [
        {
          "output_type": "execute_result",
          "data": {
            "text/plain": [
              "{'Alert': ['', '', '', '', '', '', '', '', '', '', '', '', ''],\n",
              " 'Countries': ['India, Bangladesh',\n",
              "  'India, Bangladesh',\n",
              "  'India, Bangladesh',\n",
              "  'India, Bangladesh, Bhutan',\n",
              "  'India, Bangladesh',\n",
              "  'India, Bangladesh',\n",
              "  'India, Bangladesh',\n",
              "  'India, Bangladesh',\n",
              "  'India, Bangladesh',\n",
              "  'India, Bangladesh',\n",
              "  'India, Bangladesh',\n",
              "  'India, Bangladesh',\n",
              "  'India, Bangladesh'],\n",
              " 'Date (UTC)': ['16 May 2020 06:00',\n",
              "  '16 May 2020 12:00',\n",
              "  '16 May 2020 18:00',\n",
              "  '17 May 2020 00:00',\n",
              "  '17 May 2020 06:00',\n",
              "  '17 May 2020 12:00',\n",
              "  '17 May 2020 18:00',\n",
              "  '18 May 2020 00:00',\n",
              "  '18 May 2020 06:00',\n",
              "  '18 May 2020 12:00',\n",
              "  '18 May 2020 18:00',\n",
              "  '19 May 2020 00:00',\n",
              "  '19 May 2020 06:00'],\n",
              " 'Max Winds (km/h)': ['167',\n",
              "  '148',\n",
              "  '194',\n",
              "  '194',\n",
              "  '148',\n",
              "  '204',\n",
              "  '204',\n",
              "  '204',\n",
              "  '148',\n",
              "  '204',\n",
              "  '204',\n",
              "  '213',\n",
              "  '157'],\n",
              " 'N°': ['1', '2', '3', '4', '5', '6', '7', '8', '9', '10', '11', '12', '13'],\n",
              " 'Population inCat. 1 or higher': ['65.9 million',\n",
              "  '22.3 million',\n",
              "  '17.5 million',\n",
              "  '45.9 million',\n",
              "  '22 million',\n",
              "  '32.2 million',\n",
              "  '18.6 million',\n",
              "  '31.3 million',\n",
              "  '28.2 million',\n",
              "  '33.7 million',\n",
              "  '21.1 million',\n",
              "  '23.7 million',\n",
              "  '47.2 million'],\n",
              " 'Population inTropical Storm ': ['243.2 million',\n",
              "  '271.3 million',\n",
              "  '281.6 million',\n",
              "  '287.9 million',\n",
              "  '195.2 million',\n",
              "  '260.9 million',\n",
              "  '237.9 million',\n",
              "  '263.6 million',\n",
              "  '244.5 million',\n",
              "  '235.5 million',\n",
              "  '242.6 million',\n",
              "  '246.7 million',\n",
              "  '260.3 million']}"
            ]
          },
          "metadata": {
            "tags": []
          },
          "execution_count": 19
        }
      ]
    },
    {
      "cell_type": "code",
      "metadata": {
        "id": "AcwywdId07fk",
        "colab": {
          "base_uri": "https://localhost:8080/",
          "height": 452
        },
        "outputId": "e98d9b90-919e-4d7f-af73-63b6d4b7ec71"
      },
      "source": [
        "dataframe = pandas.DataFrame(columns=columns)\n",
        "\n",
        "\n",
        "for colname in columns:\n",
        "  values = data[colname]\n",
        "  dataframe[colname] = values\n",
        "\n",
        "\n",
        "dataframe"
      ],
      "execution_count": null,
      "outputs": [
        {
          "output_type": "execute_result",
          "data": {
            "text/html": [
              "<div>\n",
              "<style scoped>\n",
              "    .dataframe tbody tr th:only-of-type {\n",
              "        vertical-align: middle;\n",
              "    }\n",
              "\n",
              "    .dataframe tbody tr th {\n",
              "        vertical-align: top;\n",
              "    }\n",
              "\n",
              "    .dataframe thead th {\n",
              "        text-align: right;\n",
              "    }\n",
              "</style>\n",
              "<table border=\"1\" class=\"dataframe\">\n",
              "  <thead>\n",
              "    <tr style=\"text-align: right;\">\n",
              "      <th></th>\n",
              "      <th>Alert</th>\n",
              "      <th>N°</th>\n",
              "      <th>Date (UTC)</th>\n",
              "      <th>Max Winds (km/h)</th>\n",
              "      <th>Population inTropical Storm</th>\n",
              "      <th>Population inCat. 1 or higher</th>\n",
              "      <th>Countries</th>\n",
              "    </tr>\n",
              "  </thead>\n",
              "  <tbody>\n",
              "    <tr>\n",
              "      <th>0</th>\n",
              "      <td></td>\n",
              "      <td>1</td>\n",
              "      <td>16 May 2020 06:00</td>\n",
              "      <td>167</td>\n",
              "      <td>243.2 million</td>\n",
              "      <td>65.9 million</td>\n",
              "      <td>India, Bangladesh</td>\n",
              "    </tr>\n",
              "    <tr>\n",
              "      <th>1</th>\n",
              "      <td></td>\n",
              "      <td>2</td>\n",
              "      <td>16 May 2020 12:00</td>\n",
              "      <td>148</td>\n",
              "      <td>271.3 million</td>\n",
              "      <td>22.3 million</td>\n",
              "      <td>India, Bangladesh</td>\n",
              "    </tr>\n",
              "    <tr>\n",
              "      <th>2</th>\n",
              "      <td></td>\n",
              "      <td>3</td>\n",
              "      <td>16 May 2020 18:00</td>\n",
              "      <td>194</td>\n",
              "      <td>281.6 million</td>\n",
              "      <td>17.5 million</td>\n",
              "      <td>India, Bangladesh</td>\n",
              "    </tr>\n",
              "    <tr>\n",
              "      <th>3</th>\n",
              "      <td></td>\n",
              "      <td>4</td>\n",
              "      <td>17 May 2020 00:00</td>\n",
              "      <td>194</td>\n",
              "      <td>287.9 million</td>\n",
              "      <td>45.9 million</td>\n",
              "      <td>India, Bangladesh, Bhutan</td>\n",
              "    </tr>\n",
              "    <tr>\n",
              "      <th>4</th>\n",
              "      <td></td>\n",
              "      <td>5</td>\n",
              "      <td>17 May 2020 06:00</td>\n",
              "      <td>148</td>\n",
              "      <td>195.2 million</td>\n",
              "      <td>22 million</td>\n",
              "      <td>India, Bangladesh</td>\n",
              "    </tr>\n",
              "    <tr>\n",
              "      <th>5</th>\n",
              "      <td></td>\n",
              "      <td>6</td>\n",
              "      <td>17 May 2020 12:00</td>\n",
              "      <td>204</td>\n",
              "      <td>260.9 million</td>\n",
              "      <td>32.2 million</td>\n",
              "      <td>India, Bangladesh</td>\n",
              "    </tr>\n",
              "    <tr>\n",
              "      <th>6</th>\n",
              "      <td></td>\n",
              "      <td>7</td>\n",
              "      <td>17 May 2020 18:00</td>\n",
              "      <td>204</td>\n",
              "      <td>237.9 million</td>\n",
              "      <td>18.6 million</td>\n",
              "      <td>India, Bangladesh</td>\n",
              "    </tr>\n",
              "    <tr>\n",
              "      <th>7</th>\n",
              "      <td></td>\n",
              "      <td>8</td>\n",
              "      <td>18 May 2020 00:00</td>\n",
              "      <td>204</td>\n",
              "      <td>263.6 million</td>\n",
              "      <td>31.3 million</td>\n",
              "      <td>India, Bangladesh</td>\n",
              "    </tr>\n",
              "    <tr>\n",
              "      <th>8</th>\n",
              "      <td></td>\n",
              "      <td>9</td>\n",
              "      <td>18 May 2020 06:00</td>\n",
              "      <td>148</td>\n",
              "      <td>244.5 million</td>\n",
              "      <td>28.2 million</td>\n",
              "      <td>India, Bangladesh</td>\n",
              "    </tr>\n",
              "    <tr>\n",
              "      <th>9</th>\n",
              "      <td></td>\n",
              "      <td>10</td>\n",
              "      <td>18 May 2020 12:00</td>\n",
              "      <td>204</td>\n",
              "      <td>235.5 million</td>\n",
              "      <td>33.7 million</td>\n",
              "      <td>India, Bangladesh</td>\n",
              "    </tr>\n",
              "    <tr>\n",
              "      <th>10</th>\n",
              "      <td></td>\n",
              "      <td>11</td>\n",
              "      <td>18 May 2020 18:00</td>\n",
              "      <td>204</td>\n",
              "      <td>242.6 million</td>\n",
              "      <td>21.1 million</td>\n",
              "      <td>India, Bangladesh</td>\n",
              "    </tr>\n",
              "    <tr>\n",
              "      <th>11</th>\n",
              "      <td></td>\n",
              "      <td>12</td>\n",
              "      <td>19 May 2020 00:00</td>\n",
              "      <td>213</td>\n",
              "      <td>246.7 million</td>\n",
              "      <td>23.7 million</td>\n",
              "      <td>India, Bangladesh</td>\n",
              "    </tr>\n",
              "    <tr>\n",
              "      <th>12</th>\n",
              "      <td></td>\n",
              "      <td>13</td>\n",
              "      <td>19 May 2020 06:00</td>\n",
              "      <td>157</td>\n",
              "      <td>260.3 million</td>\n",
              "      <td>47.2 million</td>\n",
              "      <td>India, Bangladesh</td>\n",
              "    </tr>\n",
              "  </tbody>\n",
              "</table>\n",
              "</div>"
            ],
            "text/plain": [
              "   Alert  N°  ... Population inCat. 1 or higher                  Countries\n",
              "0          1  ...                  65.9 million          India, Bangladesh\n",
              "1          2  ...                  22.3 million          India, Bangladesh\n",
              "2          3  ...                  17.5 million          India, Bangladesh\n",
              "3          4  ...                  45.9 million  India, Bangladesh, Bhutan\n",
              "4          5  ...                    22 million          India, Bangladesh\n",
              "5          6  ...                  32.2 million          India, Bangladesh\n",
              "6          7  ...                  18.6 million          India, Bangladesh\n",
              "7          8  ...                  31.3 million          India, Bangladesh\n",
              "8          9  ...                  28.2 million          India, Bangladesh\n",
              "9         10  ...                  33.7 million          India, Bangladesh\n",
              "10        11  ...                  21.1 million          India, Bangladesh\n",
              "11        12  ...                  23.7 million          India, Bangladesh\n",
              "12        13  ...                  47.2 million          India, Bangladesh\n",
              "\n",
              "[13 rows x 7 columns]"
            ]
          },
          "metadata": {
            "tags": []
          },
          "execution_count": 23
        }
      ]
    },
    {
      "cell_type": "code",
      "metadata": {
        "id": "2PNX5BZ27x1H"
      },
      "source": [
        "dataframe.to_csv(\"my_dataframe.csv\")"
      ],
      "execution_count": null,
      "outputs": []
    }
  ]
}